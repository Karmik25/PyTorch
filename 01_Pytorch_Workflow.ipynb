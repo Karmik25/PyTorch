{
  "nbformat": 4,
  "nbformat_minor": 0,
  "metadata": {
    "colab": {
      "provenance": []
    },
    "kernelspec": {
      "name": "python3",
      "display_name": "Python 3"
    },
    "language_info": {
      "name": "python"
    }
  },
  "cells": [
    {
      "cell_type": "code",
      "execution_count": 1,
      "metadata": {
        "id": "9aJSZca1x6uo"
      },
      "outputs": [],
      "source": [
        "import torch\n",
        "from torch import nn\n",
        "import numpy as np\n",
        "import pandas as pd\n",
        "import matplotlib.pyplot as plt"
      ]
    },
    {
      "cell_type": "markdown",
      "source": [
        " ## What we are covering in this Notebook\n",
        " 1. Data (prepare and load)\n",
        " 2. build models\n",
        " 3. fitting the model to data (training)\n",
        " 4. making predictionsand evaluting a model\n",
        " 5. Saving and loading the model\n",
        " 6. putting it all together"
      ],
      "metadata": {
        "id": "sb26E1c0ylea"
      }
    },
    {
      "cell_type": "markdown",
      "source": [
        "#1 Data (Preparing and Loading)\n",
        "\n",
        "* Excel spreadsheet\n",
        "* Images of any kind\n",
        "* Videos\n",
        "* Audio Like songs or podcast\n",
        "* DNA\n"
      ],
      "metadata": {
        "id": "eX-Bbx9n3q0T"
      }
    },
    {
      "cell_type": "code",
      "source": [
        "weight = 0.7\n",
        "bias = 0.3\n",
        "\n",
        "# Create\n",
        "start = 0\n",
        "end = 1\n",
        "step = 0.02\n",
        "X = torch.arange(start, end, step).unsqueeze(dim = 1)\n",
        "y = weight * X+bias # Linear regression formual (y = a + mx)\n",
        "X[:10], y[:10]"
      ],
      "metadata": {
        "colab": {
          "base_uri": "https://localhost:8080/"
        },
        "id": "EyAoe7dL3wiJ",
        "outputId": "1fda372b-dc4b-4644-c41c-1619ef34debf"
      },
      "execution_count": 2,
      "outputs": [
        {
          "output_type": "execute_result",
          "data": {
            "text/plain": [
              "(tensor([[0.0000],\n",
              "         [0.0200],\n",
              "         [0.0400],\n",
              "         [0.0600],\n",
              "         [0.0800],\n",
              "         [0.1000],\n",
              "         [0.1200],\n",
              "         [0.1400],\n",
              "         [0.1600],\n",
              "         [0.1800]]),\n",
              " tensor([[0.3000],\n",
              "         [0.3140],\n",
              "         [0.3280],\n",
              "         [0.3420],\n",
              "         [0.3560],\n",
              "         [0.3700],\n",
              "         [0.3840],\n",
              "         [0.3980],\n",
              "         [0.4120],\n",
              "         [0.4260]]))"
            ]
          },
          "metadata": {},
          "execution_count": 2
        }
      ]
    },
    {
      "cell_type": "code",
      "source": [
        "len(X), len(y)"
      ],
      "metadata": {
        "colab": {
          "base_uri": "https://localhost:8080/"
        },
        "id": "irdRgepC6Gwh",
        "outputId": "7e3195bb-3d32-4ce5-970e-4c4f067e1691"
      },
      "execution_count": 3,
      "outputs": [
        {
          "output_type": "execute_result",
          "data": {
            "text/plain": [
              "(50, 50)"
            ]
          },
          "metadata": {},
          "execution_count": 3
        }
      ]
    },
    {
      "cell_type": "markdown",
      "source": [
        "## Splitting the data into training and test sets (one of the most important concepts in machine learning in general)\n",
        "\n",
        "1. Training set - Materials (the model learns from this data)\n",
        "2. validation set - Practice (the model gets tuned on this data)\n",
        "3. Test set - Final (the model gets evaluated on this data to test what it has learned )\n",
        "\n",
        "Let's create a training and test set with our data"
      ],
      "metadata": {
        "id": "6uI2KN846Rcc"
      }
    },
    {
      "cell_type": "code",
      "source": [
        "# create a train/test split\n",
        "train_split = int(0.8 * len(X)) # len of X is 50 and 0.8*50 = 40\n",
        "\n",
        "X_train, y_train = X[:train_split], y[:train_split]\n",
        "X_test, y_test = X[train_split:], y[train_split:]\n",
        "\n",
        "len(X_train), len(y_train), len(X_test), len(y_test)\n",
        "# train_split"
      ],
      "metadata": {
        "colab": {
          "base_uri": "https://localhost:8080/"
        },
        "id": "xWrQT66M6x32",
        "outputId": "5bdacf5e-540f-4fcc-a448-5cd1496e14e8"
      },
      "execution_count": 6,
      "outputs": [
        {
          "output_type": "execute_result",
          "data": {
            "text/plain": [
              "(40, 40, 10, 10)"
            ]
          },
          "metadata": {},
          "execution_count": 6
        }
      ]
    },
    {
      "cell_type": "code",
      "source": [
        "X_train, y_train"
      ],
      "metadata": {
        "colab": {
          "base_uri": "https://localhost:8080/"
        },
        "id": "Syzu1VKY8xcZ",
        "outputId": "83a0fd45-d0bc-4512-8ebb-cf2f67917e93"
      },
      "execution_count": 7,
      "outputs": [
        {
          "output_type": "execute_result",
          "data": {
            "text/plain": [
              "(tensor([[0.0000],\n",
              "         [0.0200],\n",
              "         [0.0400],\n",
              "         [0.0600],\n",
              "         [0.0800],\n",
              "         [0.1000],\n",
              "         [0.1200],\n",
              "         [0.1400],\n",
              "         [0.1600],\n",
              "         [0.1800],\n",
              "         [0.2000],\n",
              "         [0.2200],\n",
              "         [0.2400],\n",
              "         [0.2600],\n",
              "         [0.2800],\n",
              "         [0.3000],\n",
              "         [0.3200],\n",
              "         [0.3400],\n",
              "         [0.3600],\n",
              "         [0.3800],\n",
              "         [0.4000],\n",
              "         [0.4200],\n",
              "         [0.4400],\n",
              "         [0.4600],\n",
              "         [0.4800],\n",
              "         [0.5000],\n",
              "         [0.5200],\n",
              "         [0.5400],\n",
              "         [0.5600],\n",
              "         [0.5800],\n",
              "         [0.6000],\n",
              "         [0.6200],\n",
              "         [0.6400],\n",
              "         [0.6600],\n",
              "         [0.6800],\n",
              "         [0.7000],\n",
              "         [0.7200],\n",
              "         [0.7400],\n",
              "         [0.7600],\n",
              "         [0.7800]]),\n",
              " tensor([[0.3000],\n",
              "         [0.3140],\n",
              "         [0.3280],\n",
              "         [0.3420],\n",
              "         [0.3560],\n",
              "         [0.3700],\n",
              "         [0.3840],\n",
              "         [0.3980],\n",
              "         [0.4120],\n",
              "         [0.4260],\n",
              "         [0.4400],\n",
              "         [0.4540],\n",
              "         [0.4680],\n",
              "         [0.4820],\n",
              "         [0.4960],\n",
              "         [0.5100],\n",
              "         [0.5240],\n",
              "         [0.5380],\n",
              "         [0.5520],\n",
              "         [0.5660],\n",
              "         [0.5800],\n",
              "         [0.5940],\n",
              "         [0.6080],\n",
              "         [0.6220],\n",
              "         [0.6360],\n",
              "         [0.6500],\n",
              "         [0.6640],\n",
              "         [0.6780],\n",
              "         [0.6920],\n",
              "         [0.7060],\n",
              "         [0.7200],\n",
              "         [0.7340],\n",
              "         [0.7480],\n",
              "         [0.7620],\n",
              "         [0.7760],\n",
              "         [0.7900],\n",
              "         [0.8040],\n",
              "         [0.8180],\n",
              "         [0.8320],\n",
              "         [0.8460]]))"
            ]
          },
          "metadata": {},
          "execution_count": 7
        }
      ]
    },
    {
      "cell_type": "code",
      "source": [
        "def plot_predictions(train_data=X_train,\n",
        "                     train_labels=y_train,\n",
        "                     test_data=X_test,\n",
        "                     test_labels=y_test,\n",
        "                     predictions=None):\n",
        "  \"\"\"\n",
        "  Plots training data, test data and compares predictions.\n",
        "  \"\"\"\n",
        "  plt.figure(figsize=(10, 7))\n",
        "\n",
        "  # Plot training data in blue\n",
        "  plt.scatter(train_data, train_labels, c=\"b\", s=4, label=\"Training data\")\n",
        "\n",
        "  # Plot test data in green\n",
        "  plt.scatter(test_data, test_labels, c=\"g\", s=4, label=\"Testing data\")\n",
        "\n",
        "  if predictions is not None:\n",
        "    # Plot the predictions in red (predictions were made on the test data)\n",
        "    plt.scatter(test_data, predictions, c=\"r\", s=4, label=\"Predictions\")\n",
        "\n",
        "  # Show the legend\n",
        "  plt.legend(prop={\"size\": 14});"
      ],
      "metadata": {
        "id": "LjGrzuMg9QVX"
      },
      "execution_count": 32,
      "outputs": []
    },
    {
      "cell_type": "markdown",
      "source": [
        "In the above graphs we are training the model on the basis of training data and then predicting the values of the y from the input x test data and to evalute the model the we check the predictions with the value of y"
      ],
      "metadata": {
        "id": "lR7vrn0z-yEa"
      }
    },
    {
      "cell_type": "code",
      "source": [
        "plot_predictions();"
      ],
      "metadata": {
        "colab": {
          "base_uri": "https://localhost:8080/",
          "height": 599
        },
        "id": "RSoisR-z_haW",
        "outputId": "553758c5-ad14-4164-8728-bcdfb14e862f"
      },
      "execution_count": 33,
      "outputs": [
        {
          "output_type": "display_data",
          "data": {
            "text/plain": [
              "<Figure size 1000x700 with 1 Axes>"
            ],
            "image/png": "[encoded data removed]"
          },
          "metadata": {}
        }
      ]
    },
    {
      "cell_type": "markdown",
      "source": [
        "\n",
        "## 2. Build Model\n",
        "\n",
        "Two main algorithms\n",
        "1. Gradient Descent\n",
        "2. Backpropagation\n"
      ],
      "metadata": {
        "id": "Bej10PKN_kng"
      }
    },
    {
      "cell_type": "code",
      "source": [
        "# Create a linear regression model class\n",
        "\n",
        "class LinearRegressionModel(nn.Module): # <- almost everything is PyTorch is inherited fro nn.module\n",
        "  def __init__(self):                   # constructor\n",
        "    super().__init__()\n",
        "    self.weights = nn.Parameter(torch.rand(1, requires_grad= True, dtype = torch.float))  # parameter 1\n",
        "    self.bias = nn.Parameter(torch.rand(1, requires_grad= True, dtype = torch.float))     # parameter 2\n",
        "\n",
        "    #forward method to define the computation in the model\n",
        "  def forward(self, x: torch.Tensor) -> torch.Tensor: # <- \"X\" is the input data\n",
        "    return self.weights * x + self.bias               # formula of linear regression   (decide kar rhe hai kya hoga )\n"
      ],
      "metadata": {
        "id": "EzxfTxQIAJHv"
      },
      "execution_count": 34,
      "outputs": []
    },
    {
      "cell_type": "markdown",
      "source": [
        "## PyTorch model building essentials\n",
        "\n",
        "* torch.nn - contains all of thr building for computational graphs\n",
        "* torch.nn.Parameter - what parameters should our model try and learn, often a pytoch layer from torch.nn will set these for us\n",
        "* torch.nn.Module - the base class for all neural network modules, if you subclass it, you should overwrite forward()\n",
        "* torch.optim - this is where the optimers in PyTorch live, they will help with gradient descent\n",
        "* def forward() - all nn.Module subclasses require you to overwtite forward, this method defines what happens in the forward computation\n"
      ],
      "metadata": {
        "id": "WuNkpTyoKhHl"
      }
    },
    {
      "cell_type": "code",
      "source": [
        "# create a random seed\n",
        "torch.manual_seed(42)\n",
        "\n",
        "model_0 = LinearRegressionModel()\n",
        "list(model_0.parameters())"
      ],
      "metadata": {
        "colab": {
          "base_uri": "https://localhost:8080/"
        },
        "id": "SBcxgp4pK87Q",
        "outputId": "d2ad511a-8c1e-46b4-cf23-0b1ab54aa7a9"
      },
      "execution_count": 78,
      "outputs": [
        {
          "output_type": "execute_result",
          "data": {
            "text/plain": [
              "[Parameter containing:\n",
              " tensor([0.8823], requires_grad=True),\n",
              " Parameter containing:\n",
              " tensor([0.9150], requires_grad=True)]"
            ]
          },
          "metadata": {},
          "execution_count": 78
        }
      ]
    },
    {
      "cell_type": "code",
      "source": [
        "# list named parameters\n",
        "model_0.state_dict()"
      ],
      "metadata": {
        "colab": {
          "base_uri": "https://localhost:8080/"
        },
        "id": "XjKw8sdHNFRK",
        "outputId": "5b8c82bd-4676-4b27-b020-fc74b89a3df6"
      },
      "execution_count": 79,
      "outputs": [
        {
          "output_type": "execute_result",
          "data": {
            "text/plain": [
              "OrderedDict([('weights', tensor([0.8823])), ('bias', tensor([0.9150]))])"
            ]
          },
          "metadata": {},
          "execution_count": 79
        }
      ]
    },
    {
      "cell_type": "markdown",
      "source": [
        "## making prediction using `torch.inference_mode()`\n",
        "To check our model's predictive power, let's see how well it predicts `y_test` based on `X_test`.\n",
        "\n",
        "\n",
        "When we pass data through our model, its going to run it through the `forward()` method"
      ],
      "metadata": {
        "id": "_RIPly5JODWY"
      }
    },
    {
      "cell_type": "code",
      "source": [
        "with torch.inference_mode():\n",
        "  y_preds = model_0(X_test)\n",
        "\n",
        "y_preds"
      ],
      "metadata": {
        "colab": {
          "base_uri": "https://localhost:8080/"
        },
        "id": "aoW_4GV3O8ch",
        "outputId": "b1e7010f-5924-4b88-9b4b-84d87c85f4b6"
      },
      "execution_count": 80,
      "outputs": [
        {
          "output_type": "execute_result",
          "data": {
            "text/plain": [
              "tensor([[1.6208],\n",
              "        [1.6385],\n",
              "        [1.6561],\n",
              "        [1.6738],\n",
              "        [1.6914],\n",
              "        [1.7090],\n",
              "        [1.7267],\n",
              "        [1.7443],\n",
              "        [1.7620],\n",
              "        [1.7796]])"
            ]
          },
          "metadata": {},
          "execution_count": 80
        }
      ]
    },
    {
      "cell_type": "code",
      "source": [
        "y_test"
      ],
      "metadata": {
        "colab": {
          "base_uri": "https://localhost:8080/"
        },
        "id": "nFNfBXLRfDNY",
        "outputId": "a76df9f7-e23e-465d-c410-95b74eb9d928"
      },
      "execution_count": 81,
      "outputs": [
        {
          "output_type": "execute_result",
          "data": {
            "text/plain": [
              "tensor([[0.8600],\n",
              "        [0.8740],\n",
              "        [0.8880],\n",
              "        [0.9020],\n",
              "        [0.9160],\n",
              "        [0.9300],\n",
              "        [0.9440],\n",
              "        [0.9580],\n",
              "        [0.9720],\n",
              "        [0.9860]])"
            ]
          },
          "metadata": {},
          "execution_count": 81
        }
      ]
    },
    {
      "cell_type": "code",
      "source": [
        "plot_predictions(predictions = y_preds)"
      ],
      "metadata": {
        "colab": {
          "base_uri": "https://localhost:8080/",
          "height": 599
        },
        "id": "S6XaLfeTfc6n",
        "outputId": "6c39639f-a0d0-4374-a611-094356ad3486"
      },
      "execution_count": 82,
      "outputs": [
        {
          "output_type": "display_data",
          "data": {
            "text/plain": [
              "<Figure size 1000x700 with 1 Axes>"
            ],
            "image/png": "[encoded data removed]"
          },
          "metadata": {}
        }
      ]
    },
    {
      "cell_type": "markdown",
      "source": [
        "# 3 Train Model\n",
        "The whole idea is for a model to move from unknown paramteters to some known parameters\n",
        "\n",
        "\n",
        "or in other words from a poor representation of the data to a better representation of the data.\n",
        "\n",
        "one way to measure how poor or how wrong your model predictions are is to use a Loss Function\n",
        "\n",
        "* Note: Loss Function may also be called cost function in different areas. for our case, we're going to refer to it as a loss function\n",
        "\n",
        "**Loss Function:** A functions to measure how wrong yout model's predictions are to the ideal ouputs, lower is better.\n",
        "\n",
        "**Optimizer:** Takes ito account the loss of a model and adjusts the model's paramteter(eg weight & bias)\n"
      ],
      "metadata": {
        "id": "7WFMl7CXfqEo"
      }
    },
    {
      "cell_type": "code",
      "source": [
        "# setup a loss function\n",
        "loss_fn = nn.L1Loss()\n",
        "loss_fn"
      ],
      "metadata": {
        "colab": {
          "base_uri": "https://localhost:8080/"
        },
        "id": "GjETN61-iu3G",
        "outputId": "2a4bdf67-18a2-4b6c-863c-134bea9f7613"
      },
      "execution_count": 83,
      "outputs": [
        {
          "output_type": "execute_result",
          "data": {
            "text/plain": [
              "L1Loss()"
            ]
          },
          "metadata": {},
          "execution_count": 83
        }
      ]
    },
    {
      "cell_type": "code",
      "source": [
        "# setup an optimizer\n",
        "optimizer = torch.optim.SGD(params = model_0.parameters(), lr = 0.1)   # lr = learning rate\n",
        " # optimizer known as SGD. we could have used some other also."
      ],
      "metadata": {
        "id": "aFpHExEsmSbb"
      },
      "execution_count": 84,
      "outputs": []
    },
    {
      "cell_type": "markdown",
      "source": [
        "## Building a training Loop in PyTorch\n",
        "\n",
        "1. Loop throigh the data\n",
        "2. forward pass (this involves data moving through out model's `forward()` functions) - aslo called forward propagation.\n",
        "3. Calculate the loss (compare forward pass predictions to ground truth labels)\n",
        "4. Optimizer zero grad\n",
        "5. Loss backward - move backwards through the netwroks to calculate the gradients of each of the parameters of our models with respect to the loss. (**Backpropagation**)\n",
        "6. Optimizer step - use the optimizer to adjust our model's paramaters to try and improve the loss. (**Gradient Descent**)\n",
        ""
      ],
      "metadata": {
        "id": "dzCmuWYasNyk"
      }
    },
    {
      "cell_type": "code",
      "source": [
        "torch.manual_seed(42)\n",
        "\n",
        "epochs = 200\n",
        "\n",
        "# Tracking Experiment\n",
        "\n",
        "epoch_count = []\n",
        "loss_values = []\n",
        "test_loss_values = []\n",
        "\n",
        "# 1 Loop through the data\n",
        "for epoch in range(epochs):\n",
        "  #set the model to training mode\n",
        "  model_0.train() # train mode in PyTorch sets all parameters that require gradients to require gradients (training mode)\n",
        "\n",
        "  #1. Forward Pass\n",
        "  y_pred = model_0(X_train)  #(model k de diya)\n",
        "\n",
        "  #2. Calculate the loss\n",
        "  loss = loss_fn(y_pred, y_train)  # the order matters here, i.e first predicted values and then target values\n",
        "  # print(f\"Loss is: {loss}\")\n",
        "\n",
        "  #3. Optimizer 0 grad\n",
        "  optimizer.zero_grad()  # all gradient to zero\n",
        "\n",
        "  #4. Perform Backpropagation on the loss\n",
        "  loss.backward()  # calcuates the gradient\n",
        "\n",
        "  #5. Step the optimizer\n",
        "  optimizer.step()   # weights update\n",
        "\n",
        "  ## Testing\n",
        "  model_0.eval() # turns off gradient tracking\n",
        "  with torch.inference_mode():\n",
        "  #with torch.no_grad():\n",
        "    # do forward pass\n",
        "    test_pred = model_0(X_test)\n",
        "\n",
        "    #calculate the loss\n",
        "    test_loss = loss_fn(test_pred, y_test)\n",
        "  if epoch%10 == 0:\n",
        "    epoch_count.append(epoch)\n",
        "    loss_values.append(loss)\n",
        "    test_loss_values.append(test_loss)\n",
        "    print(f\"Epoch: {epoch} | Test: {loss} | Test Loss: {test_loss}\")\n",
        "    print(model_0.state_dict())"
      ],
      "metadata": {
        "colab": {
          "base_uri": "https://localhost:8080/"
        },
        "id": "rMnPAi4gsTpM",
        "outputId": "25a2649b-7959-4e85-c00a-d0c10c48dd60"
      },
      "execution_count": 85,
      "outputs": [
        {
          "output_type": "stream",
          "name": "stdout",
          "text": [
            "Epoch: 0 | Test: 0.6860889196395874 | Test Loss: 0.642513632774353\n",
            "OrderedDict([('weights', tensor([0.8433])), ('bias', tensor([0.8150]))])\n",
            "Epoch: 10 | Test: 0.08426602929830551 | Test Loss: 0.01932867243885994\n",
            "OrderedDict([('weights', tensor([0.6768])), ('bias', tensor([0.3400]))])\n",
            "Epoch: 20 | Test: 0.08426602929830551 | Test Loss: 0.01932867243885994\n",
            "OrderedDict([('weights', tensor([0.6768])), ('bias', tensor([0.3400]))])\n",
            "Epoch: 30 | Test: 0.08426602929830551 | Test Loss: 0.01932867243885994\n",
            "OrderedDict([('weights', tensor([0.6768])), ('bias', tensor([0.3400]))])\n",
            "Epoch: 40 | Test: 0.08426602929830551 | Test Loss: 0.01932867243885994\n",
            "OrderedDict([('weights', tensor([0.6768])), ('bias', tensor([0.3400]))])\n",
            "Epoch: 50 | Test: 0.08426602929830551 | Test Loss: 0.01932867243885994\n",
            "OrderedDict([('weights', tensor([0.6768])), ('bias', tensor([0.3400]))])\n",
            "Epoch: 60 | Test: 0.08426602929830551 | Test Loss: 0.01932867243885994\n",
            "OrderedDict([('weights', tensor([0.6768])), ('bias', tensor([0.3400]))])\n",
            "Epoch: 70 | Test: 0.08426602929830551 | Test Loss: 0.01932867243885994\n",
            "OrderedDict([('weights', tensor([0.6768])), ('bias', tensor([0.3400]))])\n",
            "Epoch: 80 | Test: 0.08426602929830551 | Test Loss: 0.01932867243885994\n",
            "OrderedDict([('weights', tensor([0.6768])), ('bias', tensor([0.3400]))])\n",
            "Epoch: 90 | Test: 0.08426602929830551 | Test Loss: 0.01932867243885994\n",
            "OrderedDict([('weights', tensor([0.6768])), ('bias', tensor([0.3400]))])\n",
            "Epoch: 100 | Test: 0.08426602929830551 | Test Loss: 0.01932867243885994\n",
            "OrderedDict([('weights', tensor([0.6768])), ('bias', tensor([0.3400]))])\n",
            "Epoch: 110 | Test: 0.08426602929830551 | Test Loss: 0.01932867243885994\n",
            "OrderedDict([('weights', tensor([0.6768])), ('bias', tensor([0.3400]))])\n",
            "Epoch: 120 | Test: 0.08426602929830551 | Test Loss: 0.01932867243885994\n",
            "OrderedDict([('weights', tensor([0.6768])), ('bias', tensor([0.3400]))])\n",
            "Epoch: 130 | Test: 0.08426602929830551 | Test Loss: 0.01932867243885994\n",
            "OrderedDict([('weights', tensor([0.6768])), ('bias', tensor([0.3400]))])\n",
            "Epoch: 140 | Test: 0.08426602929830551 | Test Loss: 0.01932867243885994\n",
            "OrderedDict([('weights', tensor([0.6768])), ('bias', tensor([0.3400]))])\n",
            "Epoch: 150 | Test: 0.08426602929830551 | Test Loss: 0.01932867243885994\n",
            "OrderedDict([('weights', tensor([0.6768])), ('bias', tensor([0.3400]))])\n",
            "Epoch: 160 | Test: 0.08426602929830551 | Test Loss: 0.01932867243885994\n",
            "OrderedDict([('weights', tensor([0.6768])), ('bias', tensor([0.3400]))])\n",
            "Epoch: 170 | Test: 0.08426602929830551 | Test Loss: 0.01932867243885994\n",
            "OrderedDict([('weights', tensor([0.6768])), ('bias', tensor([0.3400]))])\n",
            "Epoch: 180 | Test: 0.08426602929830551 | Test Loss: 0.01932867243885994\n",
            "OrderedDict([('weights', tensor([0.6768])), ('bias', tensor([0.3400]))])\n",
            "Epoch: 190 | Test: 0.08426602929830551 | Test Loss: 0.01932867243885994\n",
            "OrderedDict([('weights', tensor([0.6768])), ('bias', tensor([0.3400]))])\n"
          ]
        }
      ]
    },
    {
      "cell_type": "code",
      "source": [
        "plt.plot(epoch_count, np.array(torch.tensor(loss_values).cpu().numpy()), label = \"Train Loss\")\n",
        "plt.plot(epoch_count,test_loss_values, label = \"Test loss\")\n",
        "plt.title(\"Training and test loss curves\")\n",
        "plt.ylabel(\"Loss\")\n",
        "plt.xlabel(\"Epochs\")\n",
        "plt.legend();"
      ],
      "metadata": {
        "colab": {
          "base_uri": "https://localhost:8080/",
          "height": 472
        },
        "id": "3Zkxs2yFqi6x",
        "outputId": "13349055-6110-4178-d992-1e00fd350051"
      },
      "execution_count": 87,
      "outputs": [
        {
          "output_type": "display_data",
          "data": {
            "text/plain": [
              "<Figure size 640x480 with 1 Axes>"
            ],
            "image/png": "[encoded data removed]"
          },
          "metadata": {}
        }
      ]
    },
    {
      "cell_type": "code",
      "source": [
        "with torch.inference_mode():\n",
        "  y_preds_new = model_0(y_test)"
      ],
      "metadata": {
        "id": "qRqj7HcjCABR"
      },
      "execution_count": 88,
      "outputs": []
    },
    {
      "cell_type": "code",
      "source": [
        "plot_predictions(predictions = y_preds_new);"
      ],
      "metadata": {
        "colab": {
          "base_uri": "https://localhost:8080/",
          "height": 599
        },
        "id": "8LKqTMhPA0oJ",
        "outputId": "1ba3048f-ffd6-42bc-d4d2-2bc02f5431d8"
      },
      "execution_count": 89,
      "outputs": [
        {
          "output_type": "display_data",
          "data": {
            "text/plain": [
              "<Figure size 1000x700 with 1 Axes>"
            ],
            "image/png": "[encoded data removed]"
          },
          "metadata": {}
        }
      ]
    },
    {
      "cell_type": "markdown",
      "source": [
        "### Saving a model in PyTorch\n",
        "\n",
        "There are three main methods you shoud for saving and loading the model in PyTorch\n",
        "\n",
        "1. `torch.save()` - This allows us to save the PyTorch code in Python pickle format.\n",
        "2. `torch.load()` - Allows you load a saved PyTorch object.\n",
        "3. torch.nn.Module.load_state_dict()` - This allows you to load a models saved state dictionary\n"
      ],
      "metadata": {
        "id": "rFI0PdrhB3p8"
      }
    },
    {
      "cell_type": "code",
      "source": [
        "#saving our pytorch model\n",
        "from pathlib import Path\n",
        "\n",
        "# 1. Create models directory\n",
        "MODEL_PATH = Path(\"models\") # name of the directory\n",
        "MODEL_PATH.mkdir(parents = True, exist_ok = True)  # exist_ok - will work even if the directory exists\n",
        "\n",
        "# 2. Create a model save path\n",
        "MODEL_NAME = \"01_Pytorch_Workflow.pth\"  # pyhton objects are saved with an extension of pth\n",
        "MODEL_SAVE_PATH = MODEL_PATH / MODEL_NAME\n",
        "\n",
        "# 3. Save the model state dict\n",
        "torch.save(obj = model_0.state_dict(), f = MODEL_SAVE_PATH)\n",
        "\n",
        "MODEL_SAVE_PATH\n"
      ],
      "metadata": {
        "colab": {
          "base_uri": "https://localhost:8080/"
        },
        "id": "lCPsithDDJYa",
        "outputId": "51df71cd-6a8c-4f7b-ecb6-b71e9ca57789"
      },
      "execution_count": 91,
      "outputs": [
        {
          "output_type": "execute_result",
          "data": {
            "text/plain": [
              "PosixPath('models/01_Pytorch_Workflow.pth')"
            ]
          },
          "metadata": {},
          "execution_count": 91
        }
      ]
    },
    {
      "cell_type": "markdown",
      "source": [
        "### Loading a PyTorch model\n",
        "since we saved our model's `state.dict()` rather than the entrie model, we'll create a new instance of our model class and `state_dict()` into that"
      ],
      "metadata": {
        "id": "JT1nbgqhE2bc"
      }
    },
    {
      "cell_type": "code",
      "source": [
        "loaded_model_0 = LinearRegressionModel()\n",
        "\n",
        "# load the saved state.dict of model_0 (this will update our new instance with updated parameters)\n",
        "loaded_model_0.load_state_dict(torch.load(f = MODEL_SAVE_PATH))"
      ],
      "metadata": {
        "colab": {
          "base_uri": "https://localhost:8080/"
        },
        "id": "QU49QNR8Gk2N",
        "outputId": "4af285e1-6086-4654-f458-059c5b1be07c"
      },
      "execution_count": 92,
      "outputs": [
        {
          "output_type": "execute_result",
          "data": {
            "text/plain": [
              "<All keys matched successfully>"
            ]
          },
          "metadata": {},
          "execution_count": 92
        }
      ]
    },
    {
      "cell_type": "code",
      "source": [],
      "metadata": {
        "id": "gmZLKUBBHUru"
      },
      "execution_count": null,
      "outputs": []
    }
  ]
}