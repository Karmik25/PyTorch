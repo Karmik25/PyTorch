{
  "nbformat": 4,
  "nbformat_minor": 0,
  "metadata": {
    "colab": {
      "provenance": []
    },
    "kernelspec": {
      "name": "python3",
      "display_name": "Python 3"
    },
    "language_info": {
      "name": "python"
    }
  },
  "cells": [
    {
      "cell_type": "markdown",
      "source": [
        "### Exercise\n",
        "\n",
        "1. Create a straight line dataset using the linear regression formula (weight * X + bias).\n",
        "* Set weight=0.3 and bias=0.9 there should be at least 100 datapoints total.\n",
        "* Split the data into 80% training, 20% testing.\n",
        "* Plot the training and testing data so it becomes visual.\n",
        "\n",
        "2. Build a PyTorch model by subclassing nn.Module.\n",
        "* Inside should be a randomly initialized nn.Parameter() with requires_grad=True, one for weights and one for bias.\n",
        "* Implement the forward() method to compute the linear regression function you used to create the dataset in 1.\n",
        "* Once you've constructed the model, make an instance of it and check its state_dict().\n",
        "**Note:** If you'd like to use nn.Linear() instead of nn.Parameter() you can.\n",
        "\n",
        "3. Create a loss function and optimizer using nn.L1Loss() and torch.optim.SGD(params, lr) respectively.\n",
        "* Set the learning rate of the optimizer to be 0.01 and the parameters to optimize should be the model parameters from the model you created in 2.\n",
        "* Write a training loop to perform the appropriate training steps for 300 epochs.\n",
        "* The training loop should test the model on the test dataset every 20 epochs.\n",
        "\n",
        "4. Make predictions with the trained model on the test data.\n",
        "* Visualize these predictions against the original training and testing data(**note: you may need to make sure the predictions are not on the GPU if you want to use non-CUDA-enabled libraries such as matplotlib to plot**).\n",
        "\n",
        "5. Save your trained model's state_dict() to file.\n",
        "* Create a new instance of your model class you made in 2. and load in the state_dict() you just saved to it.\n",
        "* Perform predictions on your test data with the loaded model and confirm they match the original model predictions from 4."
      ],
      "metadata": {
        "id": "UzbVMqcBFizG"
      }
    },
    {
      "cell_type": "code",
      "source": [
        "import torch\n",
        "import numpy as np\n",
        "import pandas as pd\n",
        "import matplotlib.pyplot as plt\n",
        "from torch import nn"
      ],
      "metadata": {
        "id": "QikarZnHGvnD"
      },
      "execution_count": 15,
      "outputs": []
    },
    {
      "cell_type": "code",
      "source": [
        "weight = 0.3\n",
        "bias = 0.9\n",
        "start = 0\n",
        "end = 1\n",
        "step = 0.02\n",
        "X = torch.arange(start,end,step).unsqueeze(dim = 1)\n",
        "y = weight + X * bias\n",
        "X[:10], y[:10]\n"
      ],
      "metadata": {
        "colab": {
          "base_uri": "https://localhost:8080/"
        },
        "id": "_SYLCxPlHCWB",
        "outputId": "808cd3e1-bff1-40f9-8f4b-83dcedecea2e"
      },
      "execution_count": 16,
      "outputs": [
        {
          "output_type": "execute_result",
          "data": {
            "text/plain": [
              "(tensor([[0.0000],\n",
              "         [0.0200],\n",
              "         [0.0400],\n",
              "         [0.0600],\n",
              "         [0.0800],\n",
              "         [0.1000],\n",
              "         [0.1200],\n",
              "         [0.1400],\n",
              "         [0.1600],\n",
              "         [0.1800]]),\n",
              " tensor([[0.3000],\n",
              "         [0.3180],\n",
              "         [0.3360],\n",
              "         [0.3540],\n",
              "         [0.3720],\n",
              "         [0.3900],\n",
              "         [0.4080],\n",
              "         [0.4260],\n",
              "         [0.4440],\n",
              "         [0.4620]]))"
            ]
          },
          "metadata": {},
          "execution_count": 16
        }
      ]
    },
    {
      "cell_type": "code",
      "source": [
        "# creating train/test split\n",
        "train_split = int(0.8*len(X))  # this means that 80% of the data will be used for training and 20% for testing\n",
        "X_train, y_train = X[:train_split],y[:train_split]\n",
        "X_test, y_test = X[train_split:], y[train_split:]\n",
        "\n",
        "len(X_train), len(y_train), len(X_test), len(y_test)"
      ],
      "metadata": {
        "colab": {
          "base_uri": "https://localhost:8080/"
        },
        "id": "VpWCHuL1HuA4",
        "outputId": "59aa0b8b-1401-4a0e-d134-497bf1fbcc8f"
      },
      "execution_count": 17,
      "outputs": [
        {
          "output_type": "execute_result",
          "data": {
            "text/plain": [
              "(40, 40, 10, 10)"
            ]
          },
          "metadata": {},
          "execution_count": 17
        }
      ]
    },
    {
      "cell_type": "code",
      "source": [
        "def plot_predictions(train_data=X_train, train_labels=y_train, test_data=X_test, test_labels=y_test, predictions=None):\n",
        "  \"\"\"\n",
        "  Plots training data, test data and compares predictions.\n",
        "  \"\"\"\n",
        "  plt.figure(figsize=(10, 7))\n",
        "\n",
        "  # Plot training data in blue\n",
        "  plt.scatter(train_data, train_labels, c=\"b\", s=4, label=\"Training data\")\n",
        "\n",
        "  # Plot test data in green\n",
        "  plt.scatter(test_data, test_labels, c=\"g\", s=4, label=\"Testing data\")\n",
        "\n",
        "  if predictions is not None:\n",
        "    # Plot the predictions in red (predictions were made on the test data)\n",
        "    plt.scatter(test_data, predictions, c=\"r\", s=4, label=\"Predictions\")\n",
        "\n",
        "  # Show the legend\n",
        "  plt.legend(prop={\"size\": 14});\n"
      ],
      "metadata": {
        "id": "M1m0YlPqIiTK"
      },
      "execution_count": 40,
      "outputs": []
    },
    {
      "cell_type": "code",
      "source": [
        "plot_predictions()"
      ],
      "metadata": {
        "colab": {
          "base_uri": "https://localhost:8080/",
          "height": 599
        },
        "id": "72apOZ17KAyP",
        "outputId": "b92143bc-92f5-48c2-d79c-a6c9339ca638"
      },
      "execution_count": 41,
      "outputs": [
        {
          "output_type": "display_data",
          "data": {
            "text/plain": [
              "<Figure size 1000x700 with 1 Axes>"
            ],
            "image/png": "[encoded data removed]"
          },
          "metadata": {}
        }
      ]
    },
    {
      "cell_type": "code",
      "source": [
        "# creating a inear regression model\n",
        "\n",
        "class LinearRegressionModel(nn.Module): # <- almost everything in PyTorch is a nn.Module (think of this as neural network lego blocks)\n",
        "    def __init__(self):\n",
        "        super().__init__()\n",
        "        self.weights = nn.Parameter(torch.randn(1, dtype=torch.float), requires_grad=True) # <- can we update this value with gradient descent?)\n",
        "\n",
        "        self.bias = nn.Parameter(torch.randn(1, dtype=torch.float), requires_grad=True) # <- can we update this value with gradient descent?))\n",
        "\n",
        "    # Forward defines the computation in the model\n",
        "    def forward(self, x: torch.Tensor) -> torch.Tensor: # <- \"x\" is the input data (e.g. training/testing features)\n",
        "        return self.weights * x + self.bias"
      ],
      "metadata": {
        "id": "Ouj8F567KVRk"
      },
      "execution_count": 54,
      "outputs": []
    },
    {
      "cell_type": "code",
      "source": [
        "# set a manual seed since nn.Parameter are randomly initiated\n",
        "torch.manual_seed(42)\n",
        "\n",
        "#creating an instance of the model\n",
        "model_0 = LinearRegressionModel()\n",
        "\n",
        "#check the nn.parameter within the nn.Module subclass we created\n",
        "list(model_0.parameters())"
      ],
      "metadata": {
        "colab": {
          "base_uri": "https://localhost:8080/"
        },
        "id": "-0V3B8KsYcsT",
        "outputId": "4990bbe1-7429-4e15-af3c-a3d3c99bf5d9"
      },
      "execution_count": 66,
      "outputs": [
        {
          "output_type": "execute_result",
          "data": {
            "text/plain": [
              "[Parameter containing:\n",
              " tensor([0.3367], requires_grad=True),\n",
              " Parameter containing:\n",
              " tensor([0.1288], requires_grad=True)]"
            ]
          },
          "metadata": {},
          "execution_count": 66
        }
      ]
    },
    {
      "cell_type": "code",
      "source": [
        "model_0.state_dict()"
      ],
      "metadata": {
        "colab": {
          "base_uri": "https://localhost:8080/"
        },
        "id": "qIIWXc3WY53Z",
        "outputId": "bbb40f38-1b30-4ecb-a107-4ef04dbd6cb4"
      },
      "execution_count": 67,
      "outputs": [
        {
          "output_type": "execute_result",
          "data": {
            "text/plain": [
              "OrderedDict([('weights', tensor([0.3367])), ('bias', tensor([0.1288]))])"
            ]
          },
          "metadata": {},
          "execution_count": 67
        }
      ]
    },
    {
      "cell_type": "code",
      "source": [
        "# making predicitons with this model\n",
        "with torch.inference_mode():\n",
        "    y_preds = model_0(X_test)"
      ],
      "metadata": {
        "id": "mcpneL53Y8bn"
      },
      "execution_count": 68,
      "outputs": []
    },
    {
      "cell_type": "code",
      "source": [
        "# Check the predictions\n",
        "print(f\"Number of testing samples: {len(X_test)}\")\n",
        "print(f\"Number of predictions made: {len(y_preds)}\")\n",
        "print(f\"Predicted values:\\n{y_preds}\")"
      ],
      "metadata": {
        "colab": {
          "base_uri": "https://localhost:8080/"
        },
        "id": "fnWD8P4hZJyd",
        "outputId": "8a33d5c6-f590-4f41-eb17-aaa05bdf93fa"
      },
      "execution_count": 69,
      "outputs": [
        {
          "output_type": "stream",
          "name": "stdout",
          "text": [
            "Number of testing samples: 10\n",
            "Number of predictions made: 10\n",
            "Predicted values:\n",
            "tensor([[0.3982],\n",
            "        [0.4049],\n",
            "        [0.4116],\n",
            "        [0.4184],\n",
            "        [0.4251],\n",
            "        [0.4318],\n",
            "        [0.4386],\n",
            "        [0.4453],\n",
            "        [0.4520],\n",
            "        [0.4588]])\n"
          ]
        }
      ]
    },
    {
      "cell_type": "code",
      "source": [
        "plot_predictions(predictions=y_preds)"
      ],
      "metadata": {
        "colab": {
          "base_uri": "https://localhost:8080/",
          "height": 599
        },
        "id": "A3pTeB7pZODq",
        "outputId": "15f72944-c9a0-4893-b7bb-a00c28b498a2"
      },
      "execution_count": 70,
      "outputs": [
        {
          "output_type": "display_data",
          "data": {
            "text/plain": [
              "<Figure size 1000x700 with 1 Axes>"
            ],
            "image/png": "[encoded data removed]"
          },
          "metadata": {}
        }
      ]
    },
    {
      "cell_type": "code",
      "source": [
        "y_test - y_preds"
      ],
      "metadata": {
        "colab": {
          "base_uri": "https://localhost:8080/"
        },
        "id": "_ClHERLcZWZI",
        "outputId": "3bad771d-1268-402c-8297-aa3c807e39ff"
      },
      "execution_count": 71,
      "outputs": [
        {
          "output_type": "execute_result",
          "data": {
            "text/plain": [
              "tensor([[0.6218],\n",
              "        [0.6331],\n",
              "        [0.6444],\n",
              "        [0.6556],\n",
              "        [0.6669],\n",
              "        [0.6782],\n",
              "        [0.6894],\n",
              "        [0.7007],\n",
              "        [0.7120],\n",
              "        [0.7232]])"
            ]
          },
          "metadata": {},
          "execution_count": 71
        }
      ]
    },
    {
      "cell_type": "code",
      "source": [
        "# creating the loss function\n",
        "loss_fn = nn.L1Loss()\n",
        "\n",
        "# create an optimizer\n",
        "optimizer = torch.optim.SGD(params = model_0.parameters(), lr = 0.01)  # # parameters of the target model to optimize"
      ],
      "metadata": {
        "id": "tOgqzET-ndwz"
      },
      "execution_count": 72,
      "outputs": []
    },
    {
      "cell_type": "code",
      "source": [
        "torch.manual_seed(42)\n",
        "\n",
        "epochs = 300\n",
        "\n",
        "train_loss_values = []\n",
        "test_loss_values = []\n",
        "epoch_count = []\n",
        "\n",
        "for epoch in range(epochs):\n",
        "  # training\n",
        "\n",
        "  #puts model in the training mode\n",
        "  y_pred = model_0(X_train)\n",
        "\n",
        "  # calculate the loss\n",
        "  loss = loss_fn(y_pred, y_train)\n",
        "\n",
        "  # Zero grad of the optimizer\n",
        "  optimizer.zero_grad()\n",
        "\n",
        "  # Loss backwards\n",
        "  loss.backward()\n",
        "\n",
        "  # Progess the optimizer\n",
        "  optimizer.step()\n",
        "\n",
        "  model_0.eval() # puts the model in evaluation mode\n",
        "\n",
        "  with torch.inference_mode():\n",
        "    test_pred = model_0(X_test)\n",
        "\n",
        "    test_loss = loss_fn(test_pred, y_test.type(torch.float))\n",
        "\n",
        "    if(epoch % 10 == 0):\n",
        "      epoch_count.append(epoch)\n",
        "      train_loss_values.append(loss.detach().numpy())\n",
        "      test_loss_values.append(test_loss.detach().numpy())\n",
        "      print(f\"Epoch: {epoch} | MAE Train Loss : {loss} | MAE Test Loss : {test_loss}\")"
      ],
      "metadata": {
        "colab": {
          "base_uri": "https://localhost:8080/"
        },
        "id": "Ipyug6Kpn24P",
        "outputId": "e6452668-c133-42c1-a4d1-8a5eb049591a"
      },
      "execution_count": 73,
      "outputs": [
        {
          "output_type": "stream",
          "name": "stdout",
          "text": [
            "Epoch: 0 | MAE Train Loss : 0.39088135957717896 | MAE Test Loss : 0.6590651273727417\n",
            "Epoch: 10 | MAE Train Loss : 0.2756713330745697 | MAE Test Loss : 0.5243551731109619\n",
            "Epoch: 20 | MAE Train Loss : 0.16460572183132172 | MAE Test Loss : 0.3926808834075928\n",
            "Epoch: 30 | MAE Train Loss : 0.10852336883544922 | MAE Test Loss : 0.2989806532859802\n",
            "Epoch: 40 | MAE Train Loss : 0.08743593096733093 | MAE Test Loss : 0.24060264229774475\n",
            "Epoch: 50 | MAE Train Loss : 0.07890807092189789 | MAE Test Loss : 0.20496833324432373\n",
            "Epoch: 60 | MAE Train Loss : 0.07424996793270111 | MAE Test Loss : 0.18382300436496735\n",
            "Epoch: 70 | MAE Train Loss : 0.07052046060562134 | MAE Test Loss : 0.17009106278419495\n",
            "Epoch: 80 | MAE Train Loss : 0.06703047454357147 | MAE Test Loss : 0.15907101333141327\n",
            "Epoch: 90 | MAE Train Loss : 0.06354047358036041 | MAE Test Loss : 0.1480509340763092\n",
            "Epoch: 100 | MAE Train Loss : 0.06010167673230171 | MAE Test Loss : 0.13977840542793274\n",
            "Epoch: 110 | MAE Train Loss : 0.05666285753250122 | MAE Test Loss : 0.1315058469772339\n",
            "Epoch: 120 | MAE Train Loss : 0.053229380398988724 | MAE Test Loss : 0.12392017990350723\n",
            "Epoch: 130 | MAE Train Loss : 0.049798037856817245 | MAE Test Loss : 0.11564763635396957\n",
            "Epoch: 140 | MAE Train Loss : 0.046359241008758545 | MAE Test Loss : 0.10737510025501251\n",
            "Epoch: 150 | MAE Train Loss : 0.04292744770646095 | MAE Test Loss : 0.09978944063186646\n",
            "Epoch: 160 | MAE Train Loss : 0.03949442133307457 | MAE Test Loss : 0.0915168970823288\n",
            "Epoch: 170 | MAE Train Loss : 0.036055613309144974 | MAE Test Loss : 0.08324435353279114\n",
            "Epoch: 180 | MAE Train Loss : 0.032625507563352585 | MAE Test Loss : 0.07565870136022568\n",
            "Epoch: 190 | MAE Train Loss : 0.029190804809331894 | MAE Test Loss : 0.06738615036010742\n",
            "Epoch: 200 | MAE Train Loss : 0.02575201913714409 | MAE Test Loss : 0.05980048328638077\n",
            "Epoch: 210 | MAE Train Loss : 0.02232358604669571 | MAE Test Loss : 0.0515279583632946\n",
            "Epoch: 220 | MAE Train Loss : 0.01888718269765377 | MAE Test Loss : 0.04325542598962784\n",
            "Epoch: 230 | MAE Train Loss : 0.015450092032551765 | MAE Test Loss : 0.035669755190610886\n",
            "Epoch: 240 | MAE Train Loss : 0.012021650560200214 | MAE Test Loss : 0.02739720419049263\n",
            "Epoch: 250 | MAE Train Loss : 0.008583569899201393 | MAE Test Loss : 0.01912466250360012\n",
            "Epoch: 260 | MAE Train Loss : 0.005148153752088547 | MAE Test Loss : 0.011539006605744362\n",
            "Epoch: 270 | MAE Train Loss : 0.0017257675062865019 | MAE Test Loss : 0.0025884986389428377\n",
            "Epoch: 280 | MAE Train Loss : 0.00553224328905344 | MAE Test Loss : 0.0049342988058924675\n",
            "Epoch: 290 | MAE Train Loss : 0.00553224328905344 | MAE Test Loss : 0.0049342988058924675\n"
          ]
        }
      ]
    },
    {
      "cell_type": "code",
      "source": [
        "print(\"The model learned the following values of weight and bias: \")\n",
        "print(model_0.state_dict())\n",
        "print(\"The original value of weight and bias\")\n",
        "print(f\"weight: {weight}, bias: {bias}\")"
      ],
      "metadata": {
        "colab": {
          "base_uri": "https://localhost:8080/"
        },
        "id": "wHsFPvX-p45H",
        "outputId": "a1c3a92a-d7ac-4a78-ebf0-8dd88ef55ccb"
      },
      "execution_count": 74,
      "outputs": [
        {
          "output_type": "stream",
          "name": "stdout",
          "text": [
            "The model learned the following values of weight and bias: \n",
            "OrderedDict([('weights', tensor([0.8940])), ('bias', tensor([0.2968]))])\n",
            "The original value of weight and bias\n",
            "weight: 0.3, bias: 0.9\n"
          ]
        }
      ]
    },
    {
      "cell_type": "code",
      "source": [
        "model_0.eval()\n",
        "\n",
        "with torch.inference_mode():\n",
        "  y_preds = model_0(X_test)\n",
        "y_preds\n"
      ],
      "metadata": {
        "colab": {
          "base_uri": "https://localhost:8080/"
        },
        "id": "A07B5PR4qff2",
        "outputId": "ca9762dd-c150-45bb-febc-5dea9dd3ecdf"
      },
      "execution_count": 75,
      "outputs": [
        {
          "output_type": "execute_result",
          "data": {
            "text/plain": [
              "tensor([[1.0120],\n",
              "        [1.0299],\n",
              "        [1.0478],\n",
              "        [1.0656],\n",
              "        [1.0835],\n",
              "        [1.1014],\n",
              "        [1.1193],\n",
              "        [1.1372],\n",
              "        [1.1550],\n",
              "        [1.1729]])"
            ]
          },
          "metadata": {},
          "execution_count": 75
        }
      ]
    },
    {
      "cell_type": "code",
      "source": [
        "plot_predictions(predictions = y_preds)"
      ],
      "metadata": {
        "colab": {
          "base_uri": "https://localhost:8080/",
          "height": 599
        },
        "id": "OXvmlUVIqvRH",
        "outputId": "ddcf0566-8fcc-4d14-fe2a-802ec577fa5b"
      },
      "execution_count": 76,
      "outputs": [
        {
          "output_type": "display_data",
          "data": {
            "text/plain": [
              "<Figure size 1000x700 with 1 Axes>"
            ],
            "image/png": "[encoded data removed]"
          },
          "metadata": {}
        }
      ]
    },
    {
      "cell_type": "code",
      "source": [],
      "metadata": {
        "id": "2Jie9_utq0Fz"
      },
      "execution_count": null,
      "outputs": []
    }
  ]
}